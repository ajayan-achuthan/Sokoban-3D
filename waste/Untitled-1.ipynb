{
 "cells": [
  {
   "cell_type": "code",
   "execution_count": 17,
   "metadata": {},
   "outputs": [
    {
     "name": "stdout",
     "output_type": "stream",
     "text": [
      "<Element 'SokobanLevels' at 0x72c3003f5710>\n"
     ]
    }
   ],
   "source": [
    "import xml.etree.ElementTree as ET\n",
    "tree = ET.parse(f'collections/MicroCosmos.slc')\n",
    "root = tree.getroot()\n",
    "elem = root[4][0]\n",
    "width,height = int(elem.attrib['Width']), int(elem.attrib['Height'])\n",
    "level = []\n",
    "for child in elem:\n",
    "    level.append(child.text)    "
   ]
  },
  {
   "cell_type": "code",
   "execution_count": 7,
   "metadata": {},
   "outputs": [],
   "source": [
    "kv_string = \"\"\"\n",
    "BoxLayout:\n",
    "    orientation: 'vertical'\n",
    "    pos: root.pos\n",
    "    size: root.size\n",
    "\n",
    "    GridLayout:\n",
    "        rows: 2\n",
    "        spacing: 5\n",
    "        padding: 5\n",
    "\"\"\" + ''.join([\"\"\"\n",
    "        Button:\n",
    "            text: \"X{0}\"\n",
    "            on_press: root.X({0})\n",
    "\"\"\".format(i) for i in range(6)])"
   ]
  },
  {
   "cell_type": "code",
   "execution_count": 8,
   "metadata": {},
   "outputs": [
    {
     "data": {
      "text/plain": [
       "'\\nBoxLayout:\\n    orientation: \\'vertical\\'\\n    pos: root.pos\\n    size: root.size\\n\\n    GridLayout:\\n        rows: 2\\n        spacing: 5\\n        padding: 5\\n\\n        Button:\\n            text: \"X0\"\\n            on_press: root.X(0)\\n\\n        Button:\\n            text: \"X1\"\\n            on_press: root.X(1)\\n\\n        Button:\\n            text: \"X2\"\\n            on_press: root.X(2)\\n\\n        Button:\\n            text: \"X3\"\\n            on_press: root.X(3)\\n\\n        Button:\\n            text: \"X4\"\\n            on_press: root.X(4)\\n\\n        Button:\\n            text: \"X5\"\\n            on_press: root.X(5)\\n'"
      ]
     },
     "execution_count": 8,
     "metadata": {},
     "output_type": "execute_result"
    }
   ],
   "source": [
    "kv_string.to"
   ]
  },
  {
   "cell_type": "code",
   "execution_count": 1,
   "metadata": {},
   "outputs": [],
   "source": [
    "level_data = [\n",
    "            \"#####\",\n",
    "            \"#@$.#\",\n",
    "            \"#   #\",\n",
    "            \"#@  #\",\n",
    "            \"#####\"\n",
    "        ]"
   ]
  },
  {
   "cell_type": "code",
   "execution_count": 2,
   "metadata": {},
   "outputs": [],
   "source": [
    "for i in range(len(level_data)):\n",
    "    level_data[i] = list(level_data[i])"
   ]
  },
  {
   "cell_type": "code",
   "execution_count": 4,
   "metadata": {},
   "outputs": [
    {
     "data": {
      "text/plain": [
       "[['#', '#', '#', '#', '#'],\n",
       " ['#', '@', '$', '.', '#'],\n",
       " ['#', ' ', ' ', ' ', '#'],\n",
       " ['#', '@', ' ', ' ', '#'],\n",
       " ['#', '#', '#', '#', '#']]"
      ]
     },
     "execution_count": 4,
     "metadata": {},
     "output_type": "execute_result"
    }
   ],
   "source": [
    "level_data"
   ]
  },
  {
   "cell_type": "code",
   "execution_count": null,
   "metadata": {},
   "outputs": [],
   "source": []
  }
 ],
 "metadata": {
  "kernelspec": {
   "display_name": "dinkan",
   "language": "python",
   "name": "python3"
  },
  "language_info": {
   "codemirror_mode": {
    "name": "ipython",
    "version": 3
   },
   "file_extension": ".py",
   "mimetype": "text/x-python",
   "name": "python",
   "nbconvert_exporter": "python",
   "pygments_lexer": "ipython3",
   "version": "3.12.1"
  }
 },
 "nbformat": 4,
 "nbformat_minor": 2
}
