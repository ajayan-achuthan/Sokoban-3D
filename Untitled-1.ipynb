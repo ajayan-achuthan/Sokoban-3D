{
 "cells": [
  {
   "cell_type": "code",
   "execution_count": 17,
   "metadata": {},
   "outputs": [
    {
     "name": "stdout",
     "output_type": "stream",
     "text": [
      "<Element 'SokobanLevels' at 0x72c3003f5710>\n"
     ]
    }
   ],
   "source": [
    "import xml.etree.ElementTree as ET\n",
    "tree = ET.parse(f'collections/MicroCosmos.slc')\n",
    "root = tree.getroot()\n",
    "elem = root[4][0]\n",
    "width,height = int(elem.attrib['Width']), int(elem.attrib['Height'])\n",
    "level = []\n",
    "for child in elem:\n",
    "    level.append(child.text)    "
   ]
  },
  {
   "cell_type": "code",
   "execution_count": 11,
   "metadata": {},
   "outputs": [
    {
     "name": "stdout",
     "output_type": "stream",
     "text": [
      "protected member {'settings': {'MyDict': {'0': 'H', '1': 'E', '2': 'Y'}}}\n",
      "E\n"
     ]
    }
   ],
   "source": [
    "from kivy.storage.jsonstore import JsonStore\n",
    "\n",
    "store = JsonStore(\"output/Test.json\")\n",
    "MyDict = {\"0\": \"H\", \"1\": \"A\", \"2\": \"Y\"}\n",
    "store.put(\"settings\", MyDict=MyDict)\n",
    "\n",
    "entry = store.get('settings')['MyDict']\n",
    "entry[\"1\"] = \"E\"\n",
    "store.put(\"settings\", MyDict=MyDict)\n",
    "entry = store.get('settings')['MyDict']\n",
    "print(f\"protected member {store._data}\")\n",
    "print(entry[\"1\"])"
   ]
  },
  {
   "cell_type": "code",
   "execution_count": 10,
   "metadata": {},
   "outputs": [
    {
     "data": {
      "text/plain": [
       "<kivy.storage.jsonstore.JsonStore at 0x21d8f4e2eb0>"
      ]
     },
     "execution_count": 10,
     "metadata": {},
     "output_type": "execute_result"
    }
   ],
   "source": [
    "{\"completed\": [1,2]}"
   ]
  },
  {
   "cell_type": "code",
   "execution_count": 18,
   "metadata": {},
   "outputs": [
    {
     "data": {
      "text/plain": [
       "True"
      ]
     },
     "execution_count": 18,
     "metadata": {},
     "output_type": "execute_result"
    }
   ],
   "source": [
    "from kivy.storage.jsonstore import JsonStore\n",
    "from collections import defaultdict\n",
    "store = JsonStore('output/completed.json')\n",
    "\n",
    "# put some values\n",
    "store.put('classic',completed = [1,2])\n",
    "store.put('tshirtman', name='Gabriel', age=27)"
   ]
  },
  {
   "cell_type": "code",
   "execution_count": 28,
   "metadata": {},
   "outputs": [],
   "source": [
    "def is_completed(collection,level):\n",
    "    store = JsonStore('output/completed.json')\n",
    "    if collection in store.keys():\n",
    "        completed = store.get(collection)['completed']\n",
    "        if level in completed:\n",
    "            return (1, 1, 0, 1)\n",
    "        else:\n",
    "            return (0.5, 0.5, 0.5, 1)\n",
    "    else:\n",
    "        return (0.5, 0.5, 0.5, 1)"
   ]
  },
  {
   "cell_type": "code",
   "execution_count": 30,
   "metadata": {},
   "outputs": [
    {
     "data": {
      "text/plain": [
       "(0.5, 0.5, 0.5, 1)"
      ]
     },
     "execution_count": 30,
     "metadata": {},
     "output_type": "execute_result"
    }
   ],
   "source": [
    "is_completed('Classic',2)"
   ]
  },
  {
   "cell_type": "code",
   "execution_count": 27,
   "metadata": {},
   "outputs": [
    {
     "data": {
      "text/plain": [
       "True"
      ]
     },
     "execution_count": 27,
     "metadata": {},
     "output_type": "execute_result"
    }
   ],
   "source": [
    "store.put('classic',completed = [1,2,3])"
   ]
  },
  {
   "cell_type": "code",
   "execution_count": null,
   "metadata": {},
   "outputs": [],
   "source": []
  }
 ],
 "metadata": {
  "kernelspec": {
   "display_name": "dinkan",
   "language": "python",
   "name": "python3"
  },
  "language_info": {
   "codemirror_mode": {
    "name": "ipython",
    "version": 3
   },
   "file_extension": ".py",
   "mimetype": "text/x-python",
   "name": "python",
   "nbconvert_exporter": "python",
   "pygments_lexer": "ipython3",
   "version": "3.12.1"
  }
 },
 "nbformat": 4,
 "nbformat_minor": 2
}
